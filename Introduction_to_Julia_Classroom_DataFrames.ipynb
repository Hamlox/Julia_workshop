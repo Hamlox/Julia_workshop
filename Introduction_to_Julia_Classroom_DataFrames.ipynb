{
 "cells": [
  {
   "cell_type": "markdown",
   "metadata": {
    "id": "tQ1r1bbb0yBv"
   },
   "source": [
    "# <img src=\"https://github.com/JuliaLang/julia-logo-graphics/raw/master/images/julia-logo-color.png\" height=\"100\" /> _Colab Notebook Template_\n",
    "\n",
    "## Instructions\n",
    "1. Work on a copy of this notebook: _File_ > _Save a copy in Drive_ (you will need a Google account). Alternatively, you can download the notebook using _File_ > _Download .ipynb_, then upload it to [Colab](https://colab.research.google.com/).\n",
    "2. If you need a GPU: _Runtime_ > _Change runtime type_ > _Harware accelerator_ = _GPU_.\n",
    "3. Execute the following cell (click on it and press Ctrl+Enter) to install Julia, IJulia and other packages (if needed, update `JULIA_VERSION` and the other parameters). This takes a couple of minutes.\n",
    "4. Reload this page (press Ctrl+R, or ⌘+R, or the F5 key) and continue to the next section.\n",
    "\n",
    "_Notes_:\n",
    "* If your Colab Runtime gets reset (e.g., due to inactivity), repeat steps 2, 3 and 4.\n",
    "* After installation, if you want to change the Julia version or activate/deactivate the GPU, you will need to reset the Runtime: _Runtime_ > _Factory reset runtime_ and repeat steps 3 and 4."
   ]
  },
  {
   "cell_type": "code",
   "execution_count": 3,
   "metadata": {
    "colab": {
     "base_uri": "https://localhost:8080/"
    },
    "id": "GIeFXS0F0zww",
    "outputId": "a7c47b64-6da2-4675-817f-e49a8342984b"
   },
   "outputs": [
    {
     "name": "stdout",
     "output_type": "stream",
     "text": [
      "Installing Julia 1.9.3 on the current Colab Runtime...\n",
      "2023-11-30 01:08:06 URL:https://storage.googleapis.com/julialang2/bin/linux/x64/1.9/julia-1.9.3-linux-x86_64.tar.gz [146268149/146268149] -> \"/tmp/julia.tar.gz\" [1]\n",
      "Installing Julia package IJulia...\n",
      "Installing Julia package BenchmarkTools...\n",
      "Installing IJulia kernel...\n",
      "\u001b[36m\u001b[1m[ \u001b[22m\u001b[39m\u001b[36m\u001b[1mInfo: \u001b[22m\u001b[39mInstalling julia kernelspec in /root/.local/share/jupyter/kernels/julia-1.9\n",
      "\n",
      "Successfully installed julia version 1.9.3!\n",
      "Please reload this page (press Ctrl+R, ⌘+R, or the F5 key) then\n",
      "jump to the 'Checking the Installation' section.\n"
     ]
    },
    {
     "data": {
      "text/plain": []
     },
     "execution_count": 3,
     "metadata": {},
     "output_type": "execute_result"
    }
   ],
   "source": [
    "%%shell\n",
    "set -e\n",
    "\n",
    "#---------------------------------------------------#\n",
    "JULIA_VERSION=\"1.9.3\" # any version ≥ 0.7.0\n",
    "JULIA_PACKAGES=\"IJulia BenchmarkTools\"\n",
    "JULIA_PACKAGES_IF_GPU=\"CUDA\" # or CuArrays for older Julia versions\n",
    "JULIA_NUM_THREADS=2\n",
    "#---------------------------------------------------#\n",
    "\n",
    "if [ -z `which julia` ]; then\n",
    "  # Install Julia\n",
    "  JULIA_VER=`cut -d '.' -f -2 <<< \"$JULIA_VERSION\"`\n",
    "  echo \"Installing Julia $JULIA_VERSION on the current Colab Runtime...\"\n",
    "  BASE_URL=\"https://julialang-s3.julialang.org/bin/linux/x64\"\n",
    "  URL=\"$BASE_URL/$JULIA_VER/julia-$JULIA_VERSION-linux-x86_64.tar.gz\"\n",
    "  wget -nv $URL -O /tmp/julia.tar.gz # -nv means \"not verbose\"\n",
    "  tar -x -f /tmp/julia.tar.gz -C /usr/local --strip-components 1\n",
    "  rm /tmp/julia.tar.gz\n",
    "\n",
    "  # Install Packages\n",
    "  nvidia-smi -L &> /dev/null && export GPU=1 || export GPU=0\n",
    "  if [ $GPU -eq 1 ]; then\n",
    "    JULIA_PACKAGES=\"$JULIA_PACKAGES $JULIA_PACKAGES_IF_GPU\"\n",
    "  fi\n",
    "  for PKG in `echo $JULIA_PACKAGES`; do\n",
    "    echo \"Installing Julia package $PKG...\"\n",
    "    julia -e 'using Pkg; pkg\"add '$PKG'; precompile;\"' &> /dev/null\n",
    "  done\n",
    "\n",
    "  # Install kernel and rename it to \"julia\"\n",
    "  echo \"Installing IJulia kernel...\"\n",
    "  julia -e 'using IJulia; IJulia.installkernel(\"julia\", env=Dict(\n",
    "      \"JULIA_NUM_THREADS\"=>\"'\"$JULIA_NUM_THREADS\"'\"))'\n",
    "  KERNEL_DIR=`julia -e \"using IJulia; print(IJulia.kerneldir())\"`\n",
    "  KERNEL_NAME=`ls -d \"$KERNEL_DIR\"/julia*`\n",
    "  mv -f $KERNEL_NAME \"$KERNEL_DIR\"/julia\n",
    "\n",
    "  echo ''\n",
    "  echo \"Successfully installed `julia -v`!\"\n",
    "  echo \"Please reload this page (press Ctrl+R, ⌘+R, or the F5 key) then\"\n",
    "  echo \"jump to the 'Checking the Installation' section.\"\n",
    "fi"
   ]
  },
  {
   "cell_type": "markdown",
   "metadata": {
    "id": "-OS3Ac017T1i"
   },
   "source": [
    "# Checking the Installation\n",
    "The `versioninfo()` function should print your Julia version and some other info about the system:"
   ]
  },
  {
   "cell_type": "code",
   "execution_count": 1,
   "metadata": {
    "colab": {
     "base_uri": "https://localhost:8080/"
    },
    "id": "EEzvvzCl1i0F",
    "outputId": "b6756609-2444-496c-8d67-4968139e1294"
   },
   "outputs": [
    {
     "name": "stdout",
     "output_type": "stream",
     "text": [
      "Julia Version 1.9.3\n",
      "Commit bed2cd540a1 (2023-08-24 14:43 UTC)\n",
      "Build Info:\n",
      "  Official https://julialang.org/ release\n",
      "Platform Info:\n",
      "  OS: Linux (x86_64-linux-gnu)\n",
      "  CPU: 2 × Intel(R) Xeon(R) CPU @ 2.20GHz\n",
      "  WORD_SIZE: 64\n",
      "  LIBM: libopenlibm\n",
      "  LLVM: libLLVM-14.0.6 (ORCJIT, broadwell)\n",
      "  Threads: 3 on 2 virtual cores\n",
      "Environment:\n",
      "  LD_LIBRARY_PATH = /usr/local/nvidia/lib:/usr/local/nvidia/lib64\n",
      "  JULIA_NUM_THREADS = 2\n"
     ]
    }
   ],
   "source": [
    "versioninfo()"
   ]
  },
  {
   "cell_type": "code",
   "execution_count": 3,
   "metadata": {
    "colab": {
     "base_uri": "https://localhost:8080/"
    },
    "id": "YjM_qq54lCcs",
    "outputId": "21d2b3be-1db7-4845-d2f1-b6613b2af7ed"
   },
   "outputs": [
    {
     "name": "stdout",
     "output_type": "stream",
     "text": [
      "  485.049 ms (2 allocations: 32.00 MiB)\n"
     ]
    }
   ],
   "source": [
    "using BenchmarkTools\n",
    "\n",
    "M = rand(2^11, 2^11)\n",
    "\n",
    "@btime $M * $M;"
   ]
  },
  {
   "cell_type": "code",
   "execution_count": 3,
   "metadata": {
    "colab": {
     "base_uri": "https://localhost:8080/",
     "height": 107
    },
    "id": "XciCcMAJOT3_",
    "outputId": "6e82ed6b-3a41-4212-fafb-3f3ceec81323"
   },
   "outputs": [
    {
     "ename": "LoadError",
     "evalue": "ignored",
     "output_type": "error",
     "traceback": [
      "LoadError: UndefVarError: `@btime` not defined\nin expression starting at In[3]:9",
      ""
     ]
    }
   ],
   "source": [
    "try\n",
    "    using CUDA\n",
    "catch\n",
    "    println(\"No GPU found.\")\n",
    "else\n",
    "    run(`nvidia-smi`)\n",
    "    # Create a new random matrix directly on the GPU:\n",
    "    M_on_gpu = CUDA.CURAND.rand(2^11, 2^11)\n",
    "    @btime $M_on_gpu * $M_on_gpu; nothing\n",
    "end"
   ]
  },
  {
   "cell_type": "markdown",
   "metadata": {
    "id": "vECebg2_xl5r"
   },
   "source": [
    "# Introduction to DataFrames in Julia\n",
    "\n",
    "##### Version 0.1\n",
    "\n",
    "***\n",
    "\n",
    "By Scott Coughlin (Northwestern IT Research Computing and Data Services)  \n",
    "30 November 2023"
   ]
  },
  {
   "cell_type": "markdown",
   "metadata": {
    "id": "-pjZjD6LyIYe"
   },
   "source": [
    "First, we need to install the DataFrames package from Julia."
   ]
  },
  {
   "cell_type": "code",
   "execution_count": 5,
   "metadata": {
    "colab": {
     "base_uri": "https://localhost:8080/"
    },
    "id": "xVWJ-uqxyHzO",
    "outputId": "541f93a3-86bd-4ab5-fcd7-fe05f9eca57c"
   },
   "outputs": [
    {
     "name": "stderr",
     "output_type": "stream",
     "text": [
      "\u001b[32m\u001b[1m   Resolving\u001b[22m\u001b[39m package versions...\n",
      "\u001b[32m\u001b[1m   Installed\u001b[22m\u001b[39m Crayons ───────────────────── v4.1.1\n",
      "\u001b[32m\u001b[1m   Installed\u001b[22m\u001b[39m SentinelArrays ────────────── v1.4.1\n",
      "\u001b[32m\u001b[1m   Installed\u001b[22m\u001b[39m DataAPI ───────────────────── v1.15.0\n",
      "\u001b[32m\u001b[1m   Installed\u001b[22m\u001b[39m InlineStrings ─────────────── v1.4.0\n",
      "\u001b[32m\u001b[1m   Installed\u001b[22m\u001b[39m Tables ────────────────────── v1.11.1\n",
      "\u001b[32m\u001b[1m   Installed\u001b[22m\u001b[39m TableTraits ───────────────── v1.0.1\n",
      "\u001b[32m\u001b[1m   Installed\u001b[22m\u001b[39m PooledArrays ──────────────── v1.4.3\n",
      "\u001b[32m\u001b[1m   Installed\u001b[22m\u001b[39m DataValueInterfaces ───────── v1.0.0\n",
      "\u001b[32m\u001b[1m   Installed\u001b[22m\u001b[39m IteratorInterfaceExtensions ─ v1.0.0\n",
      "\u001b[32m\u001b[1m   Installed\u001b[22m\u001b[39m LaTeXStrings ──────────────── v1.3.1\n",
      "\u001b[32m\u001b[1m   Installed\u001b[22m\u001b[39m OrderedCollections ────────── v1.6.3\n",
      "\u001b[32m\u001b[1m   Installed\u001b[22m\u001b[39m InvertedIndices ───────────── v1.3.0\n",
      "\u001b[32m\u001b[1m   Installed\u001b[22m\u001b[39m Reexport ──────────────────── v1.2.2\n",
      "\u001b[32m\u001b[1m   Installed\u001b[22m\u001b[39m Compat ────────────────────── v4.10.0\n",
      "\u001b[32m\u001b[1m   Installed\u001b[22m\u001b[39m DataStructures ────────────── v0.18.15\n",
      "\u001b[32m\u001b[1m   Installed\u001b[22m\u001b[39m Missings ──────────────────── v1.1.0\n",
      "\u001b[32m\u001b[1m   Installed\u001b[22m\u001b[39m StringManipulation ────────── v0.3.4\n",
      "\u001b[32m\u001b[1m   Installed\u001b[22m\u001b[39m PrettyTables ──────────────── v2.3.1\n",
      "\u001b[32m\u001b[1m   Installed\u001b[22m\u001b[39m DataFrames ────────────────── v1.6.1\n",
      "\u001b[32m\u001b[1m   Installed\u001b[22m\u001b[39m SortingAlgorithms ─────────── v1.2.0\n",
      "\u001b[32m\u001b[1m    Updating\u001b[22m\u001b[39m `~/.julia/environments/v1.9/Project.toml`\n",
      "  \u001b[90m[a93c6f00] \u001b[39m\u001b[92m+ DataFrames v1.6.1\u001b[39m\n",
      "\u001b[32m\u001b[1m    Updating\u001b[22m\u001b[39m `~/.julia/environments/v1.9/Manifest.toml`\n",
      "  \u001b[90m[34da2185] \u001b[39m\u001b[92m+ Compat v4.10.0\u001b[39m\n",
      "  \u001b[90m[a8cc5b0e] \u001b[39m\u001b[92m+ Crayons v4.1.1\u001b[39m\n",
      "  \u001b[90m[9a962f9c] \u001b[39m\u001b[92m+ DataAPI v1.15.0\u001b[39m\n",
      "  \u001b[90m[a93c6f00] \u001b[39m\u001b[92m+ DataFrames v1.6.1\u001b[39m\n",
      "  \u001b[90m[864edb3b] \u001b[39m\u001b[92m+ DataStructures v0.18.15\u001b[39m\n",
      "  \u001b[90m[e2d170a0] \u001b[39m\u001b[92m+ DataValueInterfaces v1.0.0\u001b[39m\n",
      "  \u001b[90m[842dd82b] \u001b[39m\u001b[92m+ InlineStrings v1.4.0\u001b[39m\n",
      "  \u001b[90m[41ab1584] \u001b[39m\u001b[92m+ InvertedIndices v1.3.0\u001b[39m\n",
      "  \u001b[90m[82899510] \u001b[39m\u001b[92m+ IteratorInterfaceExtensions v1.0.0\u001b[39m\n",
      "  \u001b[90m[b964fa9f] \u001b[39m\u001b[92m+ LaTeXStrings v1.3.1\u001b[39m\n",
      "  \u001b[90m[e1d29d7a] \u001b[39m\u001b[92m+ Missings v1.1.0\u001b[39m\n",
      "  \u001b[90m[bac558e1] \u001b[39m\u001b[92m+ OrderedCollections v1.6.3\u001b[39m\n",
      "  \u001b[90m[2dfb63ee] \u001b[39m\u001b[92m+ PooledArrays v1.4.3\u001b[39m\n",
      "  \u001b[90m[08abe8d2] \u001b[39m\u001b[92m+ PrettyTables v2.3.1\u001b[39m\n",
      "  \u001b[90m[189a3867] \u001b[39m\u001b[92m+ Reexport v1.2.2\u001b[39m\n",
      "  \u001b[90m[91c51154] \u001b[39m\u001b[92m+ SentinelArrays v1.4.1\u001b[39m\n",
      "  \u001b[90m[a2af1166] \u001b[39m\u001b[92m+ SortingAlgorithms v1.2.0\u001b[39m\n",
      "  \u001b[90m[892a3eda] \u001b[39m\u001b[92m+ StringManipulation v0.3.4\u001b[39m\n",
      "  \u001b[90m[3783bdb8] \u001b[39m\u001b[92m+ TableTraits v1.0.1\u001b[39m\n",
      "  \u001b[90m[bd369af6] \u001b[39m\u001b[92m+ Tables v1.11.1\u001b[39m\n",
      "  \u001b[90m[9fa8497b] \u001b[39m\u001b[92m+ Future\u001b[39m\n",
      "\u001b[32m\u001b[1mPrecompiling\u001b[22m\u001b[39m project...\n",
      "\u001b[32m  ✓ \u001b[39m\u001b[90mDataValueInterfaces\u001b[39m\n",
      "\u001b[32m  ✓ \u001b[39m\u001b[90mIteratorInterfaceExtensions\u001b[39m\n",
      "\u001b[32m  ✓ \u001b[39m\u001b[90mLaTeXStrings\u001b[39m\n",
      "\u001b[32m  ✓ \u001b[39m\u001b[90mCompat\u001b[39m\n",
      "\u001b[32m  ✓ \u001b[39m\u001b[90mDataAPI\u001b[39m\n",
      "\u001b[32m  ✓ \u001b[39m\u001b[90mInvertedIndices\u001b[39m\n",
      "\u001b[32m  ✓ \u001b[39m\u001b[90mSentinelArrays\u001b[39m\n",
      "\u001b[32m  ✓ \u001b[39m\u001b[90mOrderedCollections\u001b[39m\n",
      "\u001b[32m  ✓ \u001b[39m\u001b[90mReexport\u001b[39m\n",
      "\u001b[32m  ✓ \u001b[39m\u001b[90mCrayons\u001b[39m\n",
      "\u001b[32m  ✓ \u001b[39m\u001b[90mTableTraits\u001b[39m\n",
      "\u001b[32m  ✓ \u001b[39m\u001b[90mInlineStrings\u001b[39m\n",
      "\u001b[32m  ✓ \u001b[39m\u001b[90mCompat → CompatLinearAlgebraExt\u001b[39m\n",
      "\u001b[32m  ✓ \u001b[39m\u001b[90mPooledArrays\u001b[39m\n",
      "\u001b[32m  ✓ \u001b[39m\u001b[90mMissings\u001b[39m\n",
      "\u001b[32m  ✓ \u001b[39m\u001b[90mStringManipulation\u001b[39m\n",
      "\u001b[32m  ✓ \u001b[39m\u001b[90mTables\u001b[39m\n",
      "\u001b[32m  ✓ \u001b[39m\u001b[90mDataStructures\u001b[39m\n",
      "\u001b[32m  ✓ \u001b[39m\u001b[90mSortingAlgorithms\u001b[39m\n",
      "\u001b[32m  ✓ \u001b[39m\u001b[90mPrettyTables\u001b[39m\n",
      "\u001b[32m  ✓ \u001b[39mDataFrames\n",
      "  21 dependencies successfully precompiled in 131 seconds. 20 already precompiled.\n"
     ]
    }
   ],
   "source": [
    "using Pkg\n",
    "Pkg.add([\"DataFrames\",\"CSV\"])"
   ]
  },
  {
   "cell_type": "markdown",
   "metadata": {
    "id": "h_du1O240RQb"
   },
   "source": [
    "Now that we have installed the DataFrames package, we need load it.\n"
   ]
  },
  {
   "cell_type": "code",
   "execution_count": 18,
   "metadata": {
    "id": "XVp1iAWc0O8g"
   },
   "outputs": [],
   "source": [
    "# import pandas\n",
    "using DataFrames"
   ]
  },
  {
   "cell_type": "markdown",
   "metadata": {
    "id": "g9rdfhh7xqzv"
   },
   "source": [
    "As with Pandas, there are many ways to construct a DataFrame in Julia. Below, we will go through some examples and comparisons.\n",
    "\n",
    "\n",
    "\n"
   ]
  },
  {
   "cell_type": "markdown",
   "metadata": {
    "id": "emu7cFzc3QUq"
   },
   "source": [
    "## Standard Construction of a DataFrame"
   ]
  },
  {
   "cell_type": "code",
   "execution_count": 31,
   "metadata": {
    "colab": {
     "base_uri": "https://localhost:8080/"
    },
    "id": "aw_CGKjxxoTQ",
    "outputId": "93678095-e030-4e13-b635-86a4c197930f"
   },
   "outputs": [
    {
     "name": "stdout",
     "output_type": "stream",
     "text": [
      "\u001b[1m3×3 DataFrame\u001b[0m\n",
      "\u001b[1m Row \u001b[0m│\u001b[1m a     \u001b[0m\u001b[1m b     \u001b[0m\u001b[1m c     \u001b[0m\n",
      "     │\u001b[90m Int64 \u001b[0m\u001b[90m Int64 \u001b[0m\u001b[90m Int64 \u001b[0m\n",
      "─────┼─────────────────────\n",
      "   1 │     1      2      3\n",
      "   2 │     4      5      6\n",
      "   3 │     7      8      9\u001b[1m3×3 DataFrame\u001b[0m\n",
      "\u001b[1m Row \u001b[0m│\u001b[1m a     \u001b[0m\u001b[1m b     \u001b[0m\u001b[1m c     \u001b[0m\n",
      "     │\u001b[90m Int64 \u001b[0m\u001b[90m Int64 \u001b[0m\u001b[90m Int64 \u001b[0m\n",
      "─────┼─────────────────────\n",
      "   1 │     1      2      3\n",
      "   2 │     4      5      6\n",
      "   3 │     7      8      9"
     ]
    }
   ],
   "source": [
    "# df = pandas.DataFrame(np.array([[1, 2, 3], [4, 5, 6], [7, 8, 9]]),\n",
    "#                    columns=['a', 'b', 'c'])\n",
    "\n",
    "# Pass column names as strings\n",
    "df = DataFrame([1 2 3; 4 5 6; 7 8 9], [\"a\", \"b\", \"c\"])\n",
    "\n",
    "# Pass column names as \"Symbols\"\n",
    "df2 = DataFrame([1 2 3; 4 5 6; 7 8 9], [:a, :b, :c])\n",
    "print(df)\n",
    "print(df2)"
   ]
  },
  {
   "cell_type": "markdown",
   "metadata": {
    "id": "oitpDdPd5Acd"
   },
   "source": [
    "One very important thing to note in this above is the syntax is the definition of the column names. Unlike in Python if you are going to define a `string` then your but usea. double quote \" instead of a single '. The cell below will fail."
   ]
  },
  {
   "cell_type": "code",
   "execution_count": 32,
   "metadata": {
    "colab": {
     "base_uri": "https://localhost:8080/",
     "height": 272
    },
    "id": "GJumCE-m9hIS",
    "outputId": "689e3990-8bff-4a8f-b3a7-68ad222ebfa4"
   },
   "outputs": [
    {
     "ename": "LoadError",
     "evalue": "ignored",
     "output_type": "error",
     "traceback": [
      "ArgumentError: All passed column names must be strings or Symbols",
      "",
      "Stacktrace:",
      " [1] _name2symbol(str::Vector{Char})",
      "   @ DataFrames ~/.julia/packages/DataFrames/58MUJ/src/dataframe/dataframe.jl:348",
      " [2] #DataFrame#235",
      "   @ ~/.julia/packages/DataFrames/58MUJ/src/dataframe/dataframe.jl:385 [inlined]",
      " [3] DataFrame(columns::Matrix{Int64}, cnames::Vector{Char})",
      "   @ DataFrames ~/.julia/packages/DataFrames/58MUJ/src/dataframe/dataframe.jl:385",
      " [4] top-level scope",
      "   @ In[32]:1"
     ]
    }
   ],
   "source": [
    "df = DataFrame([1 2 3; 4 5 6; 7 8 9], ['a', 'b', 'c'])"
   ]
  },
  {
   "cell_type": "markdown",
   "metadata": {
    "id": "Sa4PLXYW_Crw"
   },
   "source": [
    "I think this is probably the best explanation: https://stackoverflow.com/questions/23480722/what-is-a-symbol-in-julia"
   ]
  },
  {
   "cell_type": "markdown",
   "metadata": {
    "id": "6ixgK8sw3NBf"
   },
   "source": [
    "## From a Dictionary"
   ]
  },
  {
   "cell_type": "code",
   "execution_count": 37,
   "metadata": {
    "colab": {
     "base_uri": "https://localhost:8080/"
    },
    "id": "qe0ss_G-0JUW",
    "outputId": "75238d74-155d-4962-f8d4-dc33d144e6ae",
    "scrolled": false
   },
   "outputs": [
    {
     "name": "stdout",
     "output_type": "stream",
     "text": [
      "\u001b[1m3×2 DataFrame\u001b[0m\n",
      "\u001b[1m Row \u001b[0m│\u001b[1m customer_age \u001b[0m\u001b[1m first_name \u001b[0m\n",
      "     │\u001b[90m Int64        \u001b[0m\u001b[90m String     \u001b[0m\n",
      "─────┼──────────────────────────\n",
      "   1 │           15  Scotty\n",
      "   2 │           20  Matthew\n",
      "   3 │           25  Sophie\u001b[1m3×2 DataFrame\u001b[0m\n",
      "\u001b[1m Row \u001b[0m│\u001b[1m customer_age \u001b[0m\u001b[1m first_name \u001b[0m\n",
      "     │\u001b[90m Int64        \u001b[0m\u001b[90m String     \u001b[0m\n",
      "─────┼──────────────────────────\n",
      "   1 │           15  Scotty\n",
      "   2 │           20  Matthew\n",
      "   3 │           25  Sophie"
     ]
    }
   ],
   "source": [
    "# df = pandas.DataFrame({\"customer_age\" : [15, 20, 25], \"first_name\" : [\"Scotty\", \"Matthew\", \"Sophie\"]})\n",
    "\n",
    "dict1 = Dict(\"customer_age\" => [15, 20, 25],\n",
    "                   \"first_name\" => [\"Scotty\", \"Matthew\", \"Sophie\"])\n",
    "\n",
    "dict2 = Dict(:customer_age => [15, 20, 25],\n",
    "                   :first_name => [\"Scotty\", \"Matthew\", \"Sophie\"])\n",
    "\n",
    "df1 = DataFrame(dict1)\n",
    "df2 = DataFrame(dict2)\n",
    "print(df1)\n",
    "print(df2)\n"
   ]
  },
  {
   "cell_type": "markdown",
   "metadata": {},
   "source": [
    "## Problem 1) IMDb Data\n",
    "Throughout the session we will use information from the [Internet Movie Database (IMDb)](https://www.imdb.com/) to illustrate various principles regarding databases.\n",
    "\n",
    "A quick note on the provenance of this data. The files we have used to populate this data set are from [this website](https://relational.fit.cvut.cz/dataset/IMDb) and it may not be a list of every single movie on IMDb (there are no movies after 2004)."
   ]
  },
  {
   "cell_type": "markdown",
   "metadata": {},
   "source": [
    "Below we load in the necessary data from CSV files and construct 5 different Julia DataFrames from the data."
   ]
  },
  {
   "cell_type": "code",
   "execution_count": 13,
   "metadata": {},
   "outputs": [],
   "source": [
    "imdb_movies = pandas.read_csv(\"IMDB-movies.csv\")\n",
    "imdb_directors = pandas.read_csv(\"IMDB-directors.csv\")\n",
    "imdb_movies_directors = pandas.read_csv(\"IMDB-movies_directors.csv\")\n",
    "imdb_movies_genres = pandas.read_csv(\"IMDB-movies_genres.csv\")\n",
    "\n",
    "imdb_movies_directors_genres = imdb_movies_genres.merge(imdb_movies).merge(imdb_movies_directors).merge(imdb_directors)\n",
    "\n",
    "imdb_movies_genres = imdb_movies_genres.merge(imdb_movies)\n",
    "imdb_movies_directors = imdb_movies_directors.merge(imdb_movies).merge(imdb_directors)"
   ]
  },
  {
   "cell_type": "markdown",
   "metadata": {},
   "source": [
    "For this exercise there are 5 Julia DataFrames, \n",
    "```\n",
    "imdb_movies\n",
    "imdb_directors\n",
    "imdb_movies_directors\n",
    "imdb_movies_genres\n",
    "imdb_movies_directors_genres\n",
    "```\n",
    "To make things simple, I have already performed the necessary steps to \"join\" the information from imdb_movies and imdb_directories together to make a bigger dataframe \"imdb_movies_directors\" and so on"
   ]
  },
  {
   "cell_type": "markdown",
   "metadata": {},
   "source": [
    "## Problem 1) Simple Queries"
   ]
  },
  {
   "cell_type": "markdown",
   "metadata": {
    "id": "5sk5qszQ1dep"
   },
   "source": [
    "**Problem 1a**\n",
    "\n",
    "Using pymongo, SELECT 10 movies from the imbd_movies table. Select 10 directors from imbd_directors and order by `first_name`."
   ]
  },
  {
   "cell_type": "code",
   "execution_count": null,
   "metadata": {},
   "outputs": [],
   "source": []
  },
  {
   "cell_type": "markdown",
   "metadata": {},
   "source": [
    "*write your answer here*"
   ]
  },
  {
   "cell_type": "markdown",
   "metadata": {
    "id": "5sk5qszQ1dep"
   },
   "source": [
    "**Problem 1a**\n",
    "\n",
    "Using pymongo, SELECT 10 movies from the imbd_movies table. Select 10 directors from imbd_directors and order by `first_name`."
   ]
  },
  {
   "cell_type": "code",
   "execution_count": null,
   "metadata": {},
   "outputs": [],
   "source": []
  },
  {
   "cell_type": "markdown",
   "metadata": {},
   "source": [
    "*write your answer here*"
   ]
  },
  {
   "cell_type": "markdown",
   "metadata": {
    "id": "5sk5qszQ1dep"
   },
   "source": [
    "**Problem 1b**\n",
    "\n",
    "Using pymongo, how many movies are there? How many directors are there? "
   ]
  },
  {
   "cell_type": "code",
   "execution_count": null,
   "metadata": {},
   "outputs": [],
   "source": []
  },
  {
   "cell_type": "markdown",
   "metadata": {},
   "source": [
    "*write your answer here*"
   ]
  },
  {
   "cell_type": "markdown",
   "metadata": {
    "id": "5sk5qszQ1dep"
   },
   "source": [
    "**Problem 1c**\n",
    "\n",
    "Using pymongo, determine how many movies are there after the year 2000?"
   ]
  },
  {
   "cell_type": "code",
   "execution_count": null,
   "metadata": {},
   "outputs": [],
   "source": []
  },
  {
   "cell_type": "markdown",
   "metadata": {},
   "source": [
    "*write your answer here*"
   ]
  },
  {
   "cell_type": "markdown",
   "metadata": {
    "id": "5sk5qszQ1dep"
   },
   "source": [
    "**Problem 1d**\n",
    "\n",
    "How many different movie genres are there?"
   ]
  },
  {
   "cell_type": "code",
   "execution_count": null,
   "metadata": {},
   "outputs": [],
   "source": []
  },
  {
   "cell_type": "markdown",
   "metadata": {},
   "source": [
    "*write your answer here*"
   ]
  },
  {
   "cell_type": "markdown",
   "metadata": {},
   "source": [
    "## Problem 2) Groups and Aggregates"
   ]
  },
  {
   "cell_type": "markdown",
   "metadata": {
    "id": "5sk5qszQ1dep"
   },
   "source": [
    "**Problem 2a**\n",
    "\n",
    "In which year were the most movies made according to IMDb?"
   ]
  },
  {
   "cell_type": "code",
   "execution_count": null,
   "metadata": {},
   "outputs": [],
   "source": []
  },
  {
   "cell_type": "markdown",
   "metadata": {},
   "source": [
    "*write your answer here*"
   ]
  },
  {
   "cell_type": "markdown",
   "metadata": {
    "id": "5sk5qszQ1dep"
   },
   "source": [
    "**Problem 2b**\n",
    "\n",
    "How many \"Action\" movies where made after the year 1980? Before the year 1980?"
   ]
  },
  {
   "cell_type": "code",
   "execution_count": null,
   "metadata": {},
   "outputs": [],
   "source": []
  },
  {
   "cell_type": "markdown",
   "metadata": {},
   "source": [
    "*write your answer here*"
   ]
  },
  {
   "cell_type": "markdown",
   "metadata": {
    "id": "5sk5qszQ1dep"
   },
   "source": [
    "**Problem 2c**\n",
    "\n",
    "Select all films made by `Scorsese`. How many are there?"
   ]
  },
  {
   "cell_type": "code",
   "execution_count": null,
   "metadata": {},
   "outputs": [],
   "source": []
  },
  {
   "cell_type": "markdown",
   "metadata": {},
   "source": [
    "*write your answer here*"
   ]
  },
  {
   "cell_type": "markdown",
   "metadata": {
    "id": "5sk5qszQ1dep"
   },
   "source": [
    "**Problem 2d**\n",
    "\n",
    "According the the IMDb data, which director has directed the most movies?"
   ]
  },
  {
   "cell_type": "code",
   "execution_count": null,
   "metadata": {},
   "outputs": [],
   "source": []
  },
  {
   "cell_type": "markdown",
   "metadata": {},
   "source": [
    "*write your answer here*"
   ]
  },
  {
   "cell_type": "markdown",
   "metadata": {
    "id": "5sk5qszQ1dep"
   },
   "source": [
    "**Problem 2e**\n",
    "\n",
    "According the the IMDb data, which director has directed the most movies in each genre?"
   ]
  },
  {
   "cell_type": "code",
   "execution_count": null,
   "metadata": {},
   "outputs": [],
   "source": []
  },
  {
   "cell_type": "markdown",
   "metadata": {},
   "source": [
    "*write your answer here*"
   ]
  }
 ],
 "metadata": {
  "colab": {
   "history_visible": true,
   "provenance": []
  },
  "kernelspec": {
   "display_name": "Python 3",
   "language": "python",
   "name": "python3"
  },
  "language_info": {
   "codemirror_mode": {
    "name": "ipython",
    "version": 3
   },
   "file_extension": ".py",
   "mimetype": "text/x-python",
   "name": "python",
   "nbconvert_exporter": "python",
   "pygments_lexer": "ipython3",
   "version": "3.8.8"
  }
 },
 "nbformat": 4,
 "nbformat_minor": 1
}
