{
 "cells": [
  {
   "cell_type": "markdown",
   "metadata": {},
   "source": [
    "# Intro to Julia"
   ]
  },
  {
   "cell_type": "markdown",
   "metadata": {},
   "source": [
    "## 0. Prerequisites: Installing Julia"
   ]
  },
  {
   "cell_type": "markdown",
   "metadata": {},
   "source": [
    "### Install Julia\n",
    "\n",
    "- Download [Julia](https://julialang.org/downloads/) for your platform. \n",
    "\n",
    "\n",
    "### Install Jupyter Notebook\n",
    "\n",
    "- In Julia prompt, run:\n",
    "\n",
    "```julia\n",
    "Pkg.add(“IJulia”)\n",
    "```"
   ]
  },
  {
   "cell_type": "markdown",
   "metadata": {},
   "source": [
    "## 1. Introduction"
   ]
  },
  {
   "cell_type": "markdown",
   "metadata": {},
   "source": [
    "### What is Julia\n",
    "\n",
    "- Julia is a high-level, high-performance dynamic programming language for **numerical computing**.\n",
    "\n",
    "### Why Julia\n",
    "\n",
    "- Free and open source (MIT licensed)\n",
    "- Dynamic programming language: compiling not  \n",
    "- Fast: speed comparable to C!"
   ]
  },
  {
   "cell_type": "markdown",
   "metadata": {},
   "source": [
    "## 2. Language Basics"
   ]
  },
  {
   "cell_type": "markdown",
   "metadata": {},
   "source": [
    "### Hello World!"
   ]
  },
  {
   "cell_type": "code",
   "execution_count": 41,
   "metadata": {},
   "outputs": [
    {
     "name": "stdout",
     "output_type": "stream",
     "text": [
      "Hello world!\n"
     ]
    }
   ],
   "source": [
    "# Hello world! (julia version)\n",
    "\n",
    "println(\"Hello world!\")"
   ]
  },
  {
   "cell_type": "code",
   "execution_count": 51,
   "metadata": {},
   "outputs": [
    {
     "data": {
      "text/markdown": [
       "```\n",
       "println(io::IO, xs...)\n",
       "```\n",
       "\n",
       "Print (using [`print`](@ref)) `xs` followed by a newline. If `io` is not supplied, prints to [`STDOUT`](@ref).\n"
      ],
      "text/plain": [
       "```\n",
       "println(io::IO, xs...)\n",
       "```\n",
       "\n",
       "Print (using [`print`](@ref)) `xs` followed by a newline. If `io` is not supplied, prints to [`STDOUT`](@ref).\n"
      ]
     },
     "execution_count": 51,
     "metadata": {},
     "output_type": "execute_result"
    }
   ],
   "source": [
    "?println()\n",
    "# A quick way to learn about Julia's basic functions is to ask for help from the language itself. "
   ]
  },
  {
   "cell_type": "code",
   "execution_count": 53,
   "metadata": {},
   "outputs": [
    {
     "name": "stdout",
     "output_type": "stream",
     "text": [
      "search: \u001b[1mp\u001b[22m\u001b[1mr\u001b[22m\u001b[1mi\u001b[22m\u001b[1mn\u001b[22m\u001b[1mt\u001b[22m\u001b[1ml\u001b[22m\u001b[1mn\u001b[22m \u001b[1mp\u001b[22m\u001b[1mr\u001b[22m\u001b[1mi\u001b[22m\u001b[1mn\u001b[22m\u001b[1mt\u001b[22m_with_co\u001b[1ml\u001b[22mor \u001b[1mp\u001b[22m\u001b[1mr\u001b[22m\u001b[1mi\u001b[22m\u001b[1mn\u001b[22m\u001b[1mt\u001b[22m \u001b[1mp\u001b[22m\u001b[1mr\u001b[22m\u001b[1mi\u001b[22m\u001b[1mn\u001b[22m\u001b[1mt\u001b[22m_shortest s\u001b[1mp\u001b[22m\u001b[1mr\u001b[22m\u001b[1mi\u001b[22m\u001b[1mn\u001b[22m\u001b[1mt\u001b[22m @\u001b[1mp\u001b[22m\u001b[1mr\u001b[22m\u001b[1mi\u001b[22m\u001b[1mn\u001b[22m\u001b[1mt\u001b[22mf is\u001b[1mp\u001b[22m\u001b[1mr\u001b[22m\u001b[1mi\u001b[22m\u001b[1mn\u001b[22m\u001b[1mt\u001b[22m\n",
      "\n"
     ]
    },
    {
     "data": {
      "text/markdown": [
       "```\n",
       "println(io::IO, xs...)\n",
       "```\n",
       "\n",
       "Print (using [`print`](@ref)) `xs` followed by a newline. If `io` is not supplied, prints to [`STDOUT`](@ref).\n"
      ],
      "text/plain": [
       "```\n",
       "println(io::IO, xs...)\n",
       "```\n",
       "\n",
       "Print (using [`print`](@ref)) `xs` followed by a newline. If `io` is not supplied, prints to [`STDOUT`](@ref).\n"
      ]
     },
     "execution_count": 53,
     "metadata": {},
     "output_type": "execute_result"
    }
   ],
   "source": [
    "?\n",
    "println"
   ]
  },
  {
   "cell_type": "markdown",
   "metadata": {},
   "source": [
    "### Arithmetic Operations"
   ]
  },
  {
   "cell_type": "code",
   "execution_count": 6,
   "metadata": {},
   "outputs": [
    {
     "data": {
      "text/plain": [
       "12"
      ]
     },
     "execution_count": 6,
     "metadata": {},
     "output_type": "execute_result"
    }
   ],
   "source": [
    "# Use julia as a calculator (Arithmetic Operations)\n",
    "5+7"
   ]
  },
  {
   "cell_type": "code",
   "execution_count": 8,
   "metadata": {},
   "outputs": [
    {
     "data": {
      "text/plain": [
       "12"
      ]
     },
     "execution_count": 8,
     "metadata": {},
     "output_type": "execute_result"
    }
   ],
   "source": [
    "ans #The variable \"ans\" is bound to the last evaluated expression in interactive session"
   ]
  },
  {
   "cell_type": "code",
   "execution_count": 11,
   "metadata": {},
   "outputs": [
    {
     "data": {
      "text/plain": [
       "24"
      ]
     },
     "execution_count": 11,
     "metadata": {},
     "output_type": "execute_result"
    }
   ],
   "source": [
    "ans+6 #Equivalent to saying ans=ans+6"
   ]
  },
  {
   "cell_type": "code",
   "execution_count": 12,
   "metadata": {},
   "outputs": [
    {
     "data": {
      "text/plain": [
       "24"
      ]
     },
     "execution_count": 12,
     "metadata": {},
     "output_type": "execute_result"
    }
   ],
   "source": [
    "ans"
   ]
  },
  {
   "cell_type": "code",
   "execution_count": 3,
   "metadata": {},
   "outputs": [
    {
     "name": "stdout",
     "output_type": "stream",
     "text": [
      "17\n",
      "52\n",
      "9\n",
      "3.25\n",
      "28561\n",
      "1\n"
     ]
    }
   ],
   "source": [
    "# Let's print \n",
    "\n",
    "println(13+4)\n",
    "println(13*4)\n",
    "println(13-4)\n",
    "println(13/4)\n",
    "println(13^4)\n",
    "println(13%4)"
   ]
  },
  {
   "cell_type": "markdown",
   "metadata": {},
   "source": [
    "### More on Arithmetic Operations\n",
    "\n",
    "\n",
    "<table><tbody><tr><th>Expression</th><th>Name</th><th>Description</th></tr><tr><td><code>+x</code></td><td>unary plus</td><td>the identity operation</td></tr><tr><td><code>-x</code></td><td>unary minus</td><td>maps values to their additive inverses</td></tr><tr><td><code>x + y</code></td><td>binary plus</td><td>performs addition</td></tr><tr><td><code>x - y</code></td><td>binary minus</td><td>performs subtraction</td></tr><tr><td><code>x * y</code></td><td>times</td><td>performs multiplication</td></tr><tr><td><code>x / y</code></td><td>divide</td><td>performs division</td></tr><tr><td><code>x \\ y</code></td><td>inverse divide</td><td>equivalent to <code>y / x</code></td></tr><tr><td><code>x ^ y</code></td><td>power</td><td>raises <code>x</code> to the <code>y</code>th power</td></tr><tr><td><code>x % y</code></td><td>remainder</td><td>equivalent to <code>rem(x,y)</code></td></tr></tbody></table>\n",
    "\n",
    "\n",
    "https://docs.julialang.org/en/stable/manual/mathematical-operations/\n"
   ]
  },
  {
   "cell_type": "markdown",
   "metadata": {},
   "source": [
    "### Numbers in Julia (?????)\n",
    "\n",
    "From julia doc manual [Integers and Floating-Point Numbers](https://docs.julialang.org/en/stable/manual/integers-and-floating-point-numbers/)\n",
    "\n",
    "* Interger types:\n",
    "\n",
    "<table><tbody><tr><th>Type</th><th>Signed?</th><th>Number of bits</th><th>Smallest value</th><th>Largest value</th></tr><tr><td><a href=\"../../stdlib/numbers/#Core.Int8\"><code>Int8</code></a></td><td>✓</td><td>8</td><td>-2^7</td><td>2^7 - 1</td></tr><tr><td><a href=\"../../stdlib/numbers/#Core.UInt8\"><code>UInt8</code></a></td><td>&nbsp;</td><td>8</td><td>0</td><td>2^8 - 1</td></tr><tr><td><a href=\"../../stdlib/numbers/#Core.Int16\"><code>Int16</code></a></td><td>✓</td><td>16</td><td>-2^15</td><td>2^15 - 1</td></tr><tr><td><a href=\"../../stdlib/numbers/#Core.UInt16\"><code>UInt16</code></a></td><td>&nbsp;</td><td>16</td><td>0</td><td>2^16 - 1</td></tr><tr><td><a href=\"../../stdlib/numbers/#Core.Int32\"><code>Int32</code></a></td><td>✓</td><td>32</td><td>-2^31</td><td>2^31 - 1</td></tr><tr><td><a href=\"../../stdlib/numbers/#Core.UInt32\"><code>UInt32</code></a></td><td>&nbsp;</td><td>32</td><td>0</td><td>2^32 - 1</td></tr><tr><td><a href=\"../../stdlib/numbers/#Core.Int64\"><code>Int64</code></a></td><td>✓</td><td>64</td><td>-2^63</td><td>2^63 - 1</td></tr><tr><td><a href=\"../../stdlib/numbers/#Core.UInt64\"><code>UInt64</code></a></td><td>&nbsp;</td><td>64</td><td>0</td><td>2^64 - 1</td></tr><tr><td><a href=\"../../stdlib/numbers/#Core.Int128\"><code>Int128</code></a></td><td>✓</td><td>128</td><td>-2^127</td><td>2^127 - 1</td></tr><tr><td><a href=\"../../stdlib/numbers/#Core.UInt128\"><code>UInt128</code></a></td><td>&nbsp;</td><td>128</td><td>0</td><td>2^128 - 1</td></tr><tr><td><a href=\"../../stdlib/numbers/#Core.Bool\"><code>Bool</code></a></td><td>N/A</td><td>8</td><td><code>false</code> (0)</td><td><code>true</code> (1)</td></tr></tbody></table>\n",
    "\n",
    "\n",
    "* Float types:\n",
    "\n",
    "<table><tbody><tr><th>Type</th><th>Precision</th><th>Number of bits</th></tr><tr><td><a href=\"../../stdlib/numbers/#Core.Float16\"><code>Float16</code></a></td><td><a href=\"https://en.wikipedia.org/wiki/Half-precision_floating-point_format\">half</a></td><td>16</td></tr><tr><td><a href=\"../../stdlib/numbers/#Core.Float32\"><code>Float32</code></a></td><td><a href=\"https://en.wikipedia.org/wiki/Single_precision_floating-point_format\">single</a></td><td>32</td></tr><tr><td><a href=\"../../stdlib/numbers/#Core.Float64\"><code>Float64</code></a></td><td><a href=\"https://en.wikipedia.org/wiki/Double_precision_floating-point_format\">double</a></td><td>64</td></tr></tbody></table>"
   ]
  },
  {
   "cell_type": "code",
   "execution_count": 12,
   "metadata": {},
   "outputs": [
    {
     "name": "stdout",
     "output_type": "stream",
     "text": [
      "1 + 2im\n",
      "8 + 1im\n",
      "\n"
     ]
    },
    {
     "data": {
      "text/plain": [
       "2//3"
      ]
     },
     "execution_count": 12,
     "metadata": {},
     "output_type": "execute_result"
    }
   ],
   "source": [
    "# Complex numbers are supported\n",
    "println( 1 + 2im )\n",
    "println( (1 + 2im)*(2 - 3im) )\n",
    "println()\n",
    "\n",
    "# Rational number type to represent exact ratios of integers using \"//\" operator\n",
    "2//3"
   ]
  },
  {
   "cell_type": "code",
   "execution_count": 13,
   "metadata": {},
   "outputs": [
    {
     "name": "stdout",
     "output_type": "stream",
     "text": [
      "Int64\n",
      "Bool\n",
      "Float64\n",
      "\n",
      "UInt8\n",
      "UInt16\n",
      "\n",
      "UInt8\n",
      "UInt8\n"
     ]
    }
   ],
   "source": [
    "# typeof() function\n",
    "println(typeof(1)) # On x64 machines, always using Int64\n",
    "println(typeof(true))\n",
    "println(typeof(23.4))\n",
    "println()\n",
    "\n",
    "# UInt use 0x prefix and hexadecimal (base 16) digits 0-9a-f\n",
    "println(typeof(0x1))\n",
    "println(typeof(0x123))\n",
    "println()\n",
    "\n",
    "# Binary and octal literals are also supported:\n",
    "println(typeof(0b10))\n",
    "println(typeof(0o10))"
   ]
  },
  {
   "cell_type": "code",
   "execution_count": 37,
   "metadata": {},
   "outputs": [
    {
     "data": {
      "text/markdown": [
       "```\n",
       "typeof(x)\n",
       "```\n",
       "\n",
       "Get the concrete type of `x`.\n"
      ],
      "text/plain": [
       "```\n",
       "typeof(x)\n",
       "```\n",
       "\n",
       "Get the concrete type of `x`.\n"
      ]
     },
     "execution_count": 37,
     "metadata": {},
     "output_type": "execute_result"
    }
   ],
   "source": [
    "?typeof()"
   ]
  },
  {
   "cell_type": "markdown",
   "metadata": {},
   "source": [
    "### Variables"
   ]
  },
  {
   "cell_type": "code",
   "execution_count": 5,
   "metadata": {},
   "outputs": [
    {
     "name": "stdout",
     "output_type": "stream",
     "text": [
      "10\n",
      "7//3\n",
      "Hello, World!\n",
      "π = 3.1415926535897...\n",
      "0.001\n",
      "π = 3.1415926535897...\n",
      "e = 2.7182818284590...\n"
     ]
    }
   ],
   "source": [
    "# Variables\n",
    "\n",
    "# Assign values to variable\n",
    "x = 10\n",
    "println(x)\n",
    "\n",
    "y = 2//3\n",
    "println(y*2+1)\n",
    "\n",
    "# Assign other types\n",
    "z = \"Hello, World!\"\n",
    "println(z)\n",
    "\n",
    "# Built-in constants\n",
    "println(pi)\n",
    "\n",
    "# Unicode names!!! What!\n",
    "δ = 0.001\n",
    "println(δ)\n",
    "println(π) # Built-in\n",
    "println(e)\n",
    "\n",
    "# In many Julia editing environments, Unicode characters are \n",
    "# invoked by issuing LaTeX commands for them and then pressing Tab\n",
    "# \\beta (hit Tab)\n"
   ]
  },
  {
   "cell_type": "code",
   "execution_count": 34,
   "metadata": {},
   "outputs": [
    {
     "name": "stdout",
     "output_type": "stream",
     "text": [
      "Int64 8\n",
      "Rational{Int64} 16\n",
      "String\n",
      "Irrational{:π}\n",
      "Float64\n",
      "Irrational{:π}\n"
     ]
    }
   ],
   "source": [
    "# We can also learn what type of objects are these variables again by using typeof()\n",
    "println(typeof(x),\" \", sizeof(x))\n",
    "println(typeof(y),\" \", sizeof(y))\n",
    "println(typeof(z))\n",
    "println(typeof(pi))\n",
    "println(typeof(δ))\n",
    "println(typeof(π))"
   ]
  },
  {
   "cell_type": "code",
   "execution_count": 43,
   "metadata": {},
   "outputs": [
    {
     "data": {
      "text/markdown": [
       "```\n",
       "sizeof(s::AbstractString)\n",
       "```\n",
       "\n",
       "The number of bytes in string `s`.\n",
       "\n",
       "# Example\n",
       "\n",
       "```jldoctest\n",
       "julia> sizeof(\"❤\")\n",
       "3\n",
       "```\n",
       "\n",
       "```\n",
       "sizeof(T)\n",
       "```\n",
       "\n",
       "Size, in bytes, of the canonical binary representation of the given DataType `T`, if any.\n",
       "\n",
       "# Examples\n",
       "\n",
       "```jldoctest\n",
       "julia> sizeof(Float32)\n",
       "4\n",
       "\n",
       "julia> sizeof(Complex128)\n",
       "16\n",
       "```\n",
       "\n",
       "If `T` does not have a specific size, an error is thrown.\n",
       "\n",
       "```jldoctest\n",
       "julia> sizeof(Base.LinAlg.LU)\n",
       "ERROR: argument is an abstract type; size is indeterminate\n",
       "Stacktrace:\n",
       " [1] sizeof(::Type{T} where T) at ./essentials.jl:159\n",
       "```\n"
      ],
      "text/plain": [
       "```\n",
       "sizeof(s::AbstractString)\n",
       "```\n",
       "\n",
       "The number of bytes in string `s`.\n",
       "\n",
       "# Example\n",
       "\n",
       "```jldoctest\n",
       "julia> sizeof(\"❤\")\n",
       "3\n",
       "```\n",
       "\n",
       "```\n",
       "sizeof(T)\n",
       "```\n",
       "\n",
       "Size, in bytes, of the canonical binary representation of the given DataType `T`, if any.\n",
       "\n",
       "# Examples\n",
       "\n",
       "```jldoctest\n",
       "julia> sizeof(Float32)\n",
       "4\n",
       "\n",
       "julia> sizeof(Complex128)\n",
       "16\n",
       "```\n",
       "\n",
       "If `T` does not have a specific size, an error is thrown.\n",
       "\n",
       "```jldoctest\n",
       "julia> sizeof(Base.LinAlg.LU)\n",
       "ERROR: argument is an abstract type; size is indeterminate\n",
       "Stacktrace:\n",
       " [1] sizeof(::Type{T} where T) at ./essentials.jl:159\n",
       "```\n"
      ]
     },
     "execution_count": 43,
     "metadata": {},
     "output_type": "execute_result"
    }
   ],
   "source": [
    "?sizeof()"
   ]
  },
  {
   "cell_type": "code",
   "execution_count": 1,
   "metadata": {},
   "outputs": [
    {
     "name": "stdout",
     "output_type": "stream",
     "text": [
      "                          Base               Module\n",
      "                        Compat  20070 KB     Module\n",
      "                          Core               Module\n",
      "                        IJulia  20138 KB     Module\n",
      "                          JSON  19971 KB     Module\n",
      "                          Main               Module\n",
      "                       MbedTLS  19995 KB     Module\n",
      "                     Nullables   1120 bytes  Module\n",
      "                           ZMQ  19942 KB     Module\n"
     ]
    }
   ],
   "source": [
    "# whos() command gives information about memory usage of the machine\n",
    "whos()"
   ]
  },
  {
   "cell_type": "code",
   "execution_count": 6,
   "metadata": {},
   "outputs": [
    {
     "name": "stdout",
     "output_type": "stream",
     "text": [
      "0.5\n",
      "1.54\n",
      "1.54\n"
     ]
    }
   ],
   "source": [
    "a=1.54\n",
    "b=a\n",
    "c=b\n",
    "a=1/2\n",
    "println(a)\n",
    "println(b)\n",
    "println(c)"
   ]
  },
  {
   "cell_type": "code",
   "execution_count": 7,
   "metadata": {},
   "outputs": [
    {
     "name": "stdout",
     "output_type": "stream",
     "text": [
      "6\n"
     ]
    }
   ],
   "source": [
    "# Julia can use updating operators : +=  -=  *=  /=  \\=  ÷=  %=  ^=  &=\n",
    "x=1\n",
    "x+=5\n",
    "println(x)"
   ]
  },
  {
   "cell_type": "code",
   "execution_count": 13,
   "metadata": {},
   "outputs": [
    {
     "name": "stdout",
     "output_type": "stream",
     "text": [
      "1\n"
     ]
    }
   ],
   "source": [
    "y=4\n",
    "y%=3\n",
    "println(y)"
   ]
  },
  {
   "cell_type": "code",
   "execution_count": 27,
   "metadata": {},
   "outputs": [
    {
     "data": {
      "text/plain": [
       "(true, false, true, true)"
      ]
     },
     "execution_count": 27,
     "metadata": {},
     "output_type": "execute_result"
    }
   ],
   "source": [
    "# Numerical comparisons\n",
    "1==1, 1<=-1, 1!=300, -0>=0"
   ]
  },
  {
   "cell_type": "code",
   "execution_count": 29,
   "metadata": {},
   "outputs": [
    {
     "data": {
      "text/plain": [
       "(false, true)"
      ]
     },
     "execution_count": 29,
     "metadata": {},
     "output_type": "execute_result"
    }
   ],
   "source": [
    "Inf==1, Inf>10e100"
   ]
  },
  {
   "cell_type": "code",
   "execution_count": 24,
   "metadata": {},
   "outputs": [
    {
     "data": {
      "text/plain": [
       "(false, true)"
      ]
     },
     "execution_count": 24,
     "metadata": {},
     "output_type": "execute_result"
    }
   ],
   "source": [
    "NaN==NaN, NaN!=NaN"
   ]
  },
  {
   "cell_type": "code",
   "execution_count": 30,
   "metadata": {},
   "outputs": [
    {
     "data": {
      "text/plain": [
       "Float64"
      ]
     },
     "execution_count": 30,
     "metadata": {},
     "output_type": "execute_result"
    }
   ],
   "source": [
    "typeof(NaN)"
   ]
  },
  {
   "cell_type": "markdown",
   "metadata": {},
   "source": [
    "### Vectors and Matrices "
   ]
  },
  {
   "cell_type": "code",
   "execution_count": 37,
   "metadata": {},
   "outputs": [
    {
     "data": {
      "text/plain": [
       "3-element Array{Int64,1}:\n",
       "  1\n",
       "  8\n",
       " 27"
      ]
     },
     "execution_count": 37,
     "metadata": {},
     "output_type": "execute_result"
    }
   ],
   "source": [
    "[1,2,3] .^ 3"
   ]
  },
  {
   "cell_type": "markdown",
   "metadata": {},
   "source": [
    "## 3. Control Flow and Functions"
   ]
  },
  {
   "cell_type": "markdown",
   "metadata": {
    "collapsed": true
   },
   "source": [
    "### Compound Expressions"
   ]
  },
  {
   "cell_type": "code",
   "execution_count": 25,
   "metadata": {},
   "outputs": [
    {
     "data": {
      "text/plain": [
       "15"
      ]
     },
     "execution_count": 25,
     "metadata": {},
     "output_type": "execute_result"
    }
   ],
   "source": [
    "z = begin\n",
    "        x = 8\n",
    "        y = 7\n",
    "        x + y\n",
    "    end"
   ]
  },
  {
   "cell_type": "markdown",
   "metadata": {},
   "source": [
    "### Functions"
   ]
  },
  {
   "cell_type": "code",
   "execution_count": 26,
   "metadata": {},
   "outputs": [
    {
     "name": "stdout",
     "output_type": "stream",
     "text": [
      "7\n",
      "11\n"
     ]
    }
   ],
   "source": [
    "function f(x,y)\n",
    "   x + y\n",
    "end\n",
    "\n",
    "println(f(3,4))\n",
    "println(f(2,9))"
   ]
  },
  {
   "cell_type": "markdown",
   "metadata": {},
   "source": [
    "### Conditional Evaluation"
   ]
  },
  {
   "cell_type": "code",
   "execution_count": 19,
   "metadata": {},
   "outputs": [
    {
     "name": "stdout",
     "output_type": "stream",
     "text": [
      "x is greater than y\n"
     ]
    }
   ],
   "source": [
    "x = 10\n",
    "y = 5\n",
    "if x < y\n",
    "    println(\"x is less than y\")\n",
    "elseif x > y\n",
    "    println(\"x is greater than y\")\n",
    "else\n",
    "    println(\"x is equal to y\")\n",
    "end"
   ]
  },
  {
   "cell_type": "markdown",
   "metadata": {},
   "source": [
    "### Loops"
   ]
  },
  {
   "cell_type": "code",
   "execution_count": 24,
   "metadata": {},
   "outputs": [
    {
     "name": "stdout",
     "output_type": "stream",
     "text": [
      "1\n",
      "2\n",
      "3\n",
      "4\n",
      "5\n"
     ]
    }
   ],
   "source": [
    "i = 1;\n",
    "\n",
    "while i <= 5\n",
    "   println(i)\n",
    "   i += 1\n",
    "end"
   ]
  },
  {
   "cell_type": "markdown",
   "metadata": {},
   "source": [
    "### Exception Handling"
   ]
  },
  {
   "cell_type": "code",
   "execution_count": 30,
   "metadata": {},
   "outputs": [
    {
     "name": "stdout",
     "output_type": "stream",
     "text": [
      "1.0\n"
     ]
    },
    {
     "ename": "LoadError",
     "evalue": "DomainError:",
     "output_type": "error",
     "traceback": [
      "DomainError:",
      "",
      "Stacktrace:",
      " [1] \u001b[1mf1\u001b[22m\u001b[22m\u001b[1m(\u001b[22m\u001b[22m::Int64\u001b[1m)\u001b[22m\u001b[22m at \u001b[1m./In[30]:1\u001b[22m\u001b[22m",
      " [2] \u001b[1minclude_string\u001b[22m\u001b[22m\u001b[1m(\u001b[22m\u001b[22m::String, ::String\u001b[1m)\u001b[22m\u001b[22m at \u001b[1m./loading.jl:522\u001b[22m\u001b[22m"
     ]
    }
   ],
   "source": [
    "f1(x) = sqrt(x)\n",
    "\n",
    "println(f1(1))\n",
    "println(f1(-1))"
   ]
  },
  {
   "cell_type": "code",
   "execution_count": 31,
   "metadata": {},
   "outputs": [
    {
     "name": "stdout",
     "output_type": "stream",
     "text": [
      "1.0\n",
      "0.0 + 1.0im\n"
     ]
    }
   ],
   "source": [
    "f2(x) = try\n",
    "            sqrt(x)\n",
    "        catch\n",
    "            sqrt(complex(x, 0))\n",
    "        end\n",
    "\n",
    "println(f2(1))\n",
    "println(f2(-1))"
   ]
  },
  {
   "cell_type": "markdown",
   "metadata": {},
   "source": [
    "## 4. Advanced Features of Julia"
   ]
  },
  {
   "cell_type": "markdown",
   "metadata": {},
   "source": [
    "### Call Python in Julia"
   ]
  },
  {
   "cell_type": "code",
   "execution_count": 4,
   "metadata": {},
   "outputs": [
    {
     "data": {
      "text/plain": [
       "0.0"
      ]
     },
     "execution_count": 4,
     "metadata": {},
     "output_type": "execute_result"
    }
   ],
   "source": [
    "# Run Pkg.add(\"PyCall\") if you see an error\n",
    "\n",
    "using PyCall\n",
    "@pyimport math\n",
    "math.sin(math.pi / 4) - sin(pi / 4)  # returns 0.0"
   ]
  },
  {
   "cell_type": "markdown",
   "metadata": {},
   "source": [
    "### Parallel Computing"
   ]
  },
  {
   "cell_type": "markdown",
   "metadata": {},
   "source": [
    "### GPU Computing"
   ]
  },
  {
   "cell_type": "markdown",
   "metadata": {},
   "source": [
    "## 5. References and More Online Resources\n",
    "\n",
    "1. [Julia Documentation](https://docs.julialang.org/en/stable/index.html)\n",
    "2. http://samuelcolvin.github.io/JuliaByExample/\n",
    "3. http://math.mit.edu/~stevenj/Julia-cheatsheet.pdf\n",
    "4. http://courses.csail.mit.edu/18.337/2017/\n",
    "5. Beginning Julia Programming: For Engineers and Scientists, Sandeep Nagar, 2017 [https://link.springer.com/book/10.1007%2F978-1-4842-3171-5]"
   ]
  },
  {
   "cell_type": "markdown",
   "metadata": {},
   "source": [
    "## Backup"
   ]
  },
  {
   "cell_type": "code",
   "execution_count": null,
   "metadata": {},
   "outputs": [],
   "source": []
  }
 ],
 "metadata": {
  "kernelspec": {
   "display_name": "Julia 0.6.2",
   "language": "julia",
   "name": "julia-0.6"
  },
  "language_info": {
   "file_extension": ".jl",
   "mimetype": "application/julia",
   "name": "julia",
   "version": "0.6.2"
  }
 },
 "nbformat": 4,
 "nbformat_minor": 2
}
