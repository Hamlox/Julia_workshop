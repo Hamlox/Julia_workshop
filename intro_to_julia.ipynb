{
 "cells": [
  {
   "cell_type": "markdown",
   "metadata": {},
   "source": [
    "# Intro to Julia"
   ]
  },
  {
   "cell_type": "markdown",
   "metadata": {},
   "source": [
    "## 0. Prerequisites: Installing Julia"
   ]
  },
  {
   "cell_type": "markdown",
   "metadata": {},
   "source": [
    "### Install Julia\n",
    "\n",
    "- Download [Julia](https://julialang.org/downloads/) for your platform. \n",
    "\n",
    "\n",
    "### Install Jupyter Notebook\n",
    "\n",
    "- In Julia prompt, run:\n",
    "\n",
    "```julia\n",
    "Pkg.add(“IJulia”)\n",
    "```"
   ]
  },
  {
   "cell_type": "markdown",
   "metadata": {},
   "source": [
    "## 1. Introduction"
   ]
  },
  {
   "cell_type": "markdown",
   "metadata": {},
   "source": [
    "### What is Julia\n",
    "\n",
    "- Julia is a high-level, high-performance dynamic programming language for **numerical computing**.\n",
    "\n",
    "### Why Julia\n",
    "\n",
    "- Free and open source (MIT licensed)\n",
    "- Dynamic programming language: compiling not  \n",
    "- Fast: speed comparable to C!"
   ]
  },
  {
   "cell_type": "markdown",
   "metadata": {},
   "source": [
    "## 1. Language Basics"
   ]
  },
  {
   "cell_type": "markdown",
   "metadata": {},
   "source": [
    "Let's get in the world of Julia with \"Hello World!\""
   ]
  },
  {
   "cell_type": "code",
   "execution_count": 41,
   "metadata": {},
   "outputs": [
    {
     "name": "stdout",
     "output_type": "stream",
     "text": [
      "Hello world!\n"
     ]
    }
   ],
   "source": [
    "println(\"Hello world!\")"
   ]
  },
  {
   "cell_type": "markdown",
   "metadata": {},
   "source": [
    "What does println() do? A quick way to learn about Julia's basic functions is to ask for help from the language itself. "
   ]
  },
  {
   "cell_type": "code",
   "execution_count": 51,
   "metadata": {},
   "outputs": [
    {
     "data": {
      "text/markdown": [
       "```\n",
       "println(io::IO, xs...)\n",
       "```\n",
       "\n",
       "Print (using [`print`](@ref)) `xs` followed by a newline. If `io` is not supplied, prints to [`STDOUT`](@ref).\n"
      ],
      "text/plain": [
       "```\n",
       "println(io::IO, xs...)\n",
       "```\n",
       "\n",
       "Print (using [`print`](@ref)) `xs` followed by a newline. If `io` is not supplied, prints to [`STDOUT`](@ref).\n"
      ]
     },
     "execution_count": 51,
     "metadata": {},
     "output_type": "execute_result"
    }
   ],
   "source": [
    "?println()"
   ]
  },
  {
   "cell_type": "markdown",
   "metadata": {},
   "source": [
    "Even if you don't know the exact function name, Julia help will show you closest matches"
   ]
  },
  {
   "cell_type": "code",
   "execution_count": 1,
   "metadata": {},
   "outputs": [
    {
     "name": "stdout",
     "output_type": "stream",
     "text": [
      "search: \u001b[1mp\u001b[22m\u001b[1mr\u001b[22m\u001b[1mi\u001b[22m\u001b[1mn\u001b[22mt \u001b[1mp\u001b[22m\u001b[1mr\u001b[22m\u001b[1mi\u001b[22m\u001b[1mn\u001b[22mtln \u001b[1mp\u001b[22m\u001b[1mr\u001b[22m\u001b[1mi\u001b[22m\u001b[1mn\u001b[22mt_shortest \u001b[1mp\u001b[22m\u001b[1mr\u001b[22m\u001b[1mi\u001b[22m\u001b[1mn\u001b[22mt_with_color s\u001b[1mp\u001b[22m\u001b[1mr\u001b[22m\u001b[1mi\u001b[22m\u001b[1mn\u001b[22mt @\u001b[1mp\u001b[22m\u001b[1mr\u001b[22m\u001b[1mi\u001b[22m\u001b[1mn\u001b[22mtf is\u001b[1mp\u001b[22m\u001b[1mr\u001b[22m\u001b[1mi\u001b[22m\u001b[1mn\u001b[22mt\n",
      "\n",
      "Couldn't find \u001b[36mprin\n",
      "\u001b[39mPerhaps you meant print, sprint, prod, pi, pinv, asin, bin, in, join or kron\n"
     ]
    },
    {
     "data": {
      "text/markdown": [
       "No documentation found.\n",
       "\n",
       "Binding `prin` does not exist.\n"
      ],
      "text/plain": [
       "No documentation found.\n",
       "\n",
       "Binding `prin` does not exist.\n"
      ]
     },
     "execution_count": 1,
     "metadata": {},
     "output_type": "execute_result"
    }
   ],
   "source": [
    "?prin"
   ]
  },
  {
   "cell_type": "code",
   "execution_count": 14,
   "metadata": {},
   "outputs": [],
   "source": [
    "# We can comment out lines using `#`"
   ]
  },
  {
   "cell_type": "markdown",
   "metadata": {},
   "source": [
    "### 1.a. Arithmetic Operations"
   ]
  },
  {
   "cell_type": "markdown",
   "metadata": {},
   "source": [
    "Julia provides a complete collection of basic arithmetic operators across all of its numeric primitive types. It also includes a comprehensive collection of standard mathematical functions."
   ]
  },
  {
   "cell_type": "markdown",
   "metadata": {},
   "source": [
    "### Julia as a calculator"
   ]
  },
  {
   "cell_type": "code",
   "execution_count": 2,
   "metadata": {},
   "outputs": [
    {
     "data": {
      "text/plain": [
       "12"
      ]
     },
     "execution_count": 2,
     "metadata": {},
     "output_type": "execute_result"
    }
   ],
   "source": [
    "5+7"
   ]
  },
  {
   "cell_type": "code",
   "execution_count": 3,
   "metadata": {},
   "outputs": [
    {
     "data": {
      "text/plain": [
       "12"
      ]
     },
     "execution_count": 3,
     "metadata": {},
     "output_type": "execute_result"
    }
   ],
   "source": [
    "ans"
   ]
  },
  {
   "cell_type": "markdown",
   "metadata": {},
   "source": [
    "The variable \"ans\" is bound to the last evaluated expression in interactive session"
   ]
  },
  {
   "cell_type": "code",
   "execution_count": 4,
   "metadata": {},
   "outputs": [
    {
     "data": {
      "text/plain": [
       "18"
      ]
     },
     "execution_count": 4,
     "metadata": {},
     "output_type": "execute_result"
    }
   ],
   "source": [
    "ans+6 "
   ]
  },
  {
   "cell_type": "markdown",
   "metadata": {},
   "source": [
    "This is equivalent to `ans=ans+6`"
   ]
  },
  {
   "cell_type": "code",
   "execution_count": 5,
   "metadata": {},
   "outputs": [
    {
     "data": {
      "text/plain": [
       "18"
      ]
     },
     "execution_count": 5,
     "metadata": {},
     "output_type": "execute_result"
    }
   ],
   "source": [
    "ans"
   ]
  },
  {
   "cell_type": "markdown",
   "metadata": {},
   "source": [
    "Let's print some more aritmetic operations"
   ]
  },
  {
   "cell_type": "code",
   "execution_count": 8,
   "metadata": {},
   "outputs": [
    {
     "name": "stdout",
     "output_type": "stream",
     "text": [
      "12\n",
      "57\n",
      "12.0\n",
      "0.8125\n",
      "285.61\n",
      "2\n"
     ]
    }
   ],
   "source": [
    "println(13+4-5)\n",
    "println(13*4+5)\n",
    "println(13-4/4)\n",
    "println(13/4^2)\n",
    "println(13^4/100)\n",
    "println(13%4*2)"
   ]
  },
  {
   "cell_type": "markdown",
   "metadata": {},
   "source": [
    "Operator precedence is consistent with other prevalent languages"
   ]
  },
  {
   "cell_type": "markdown",
   "metadata": {},
   "source": [
    "Comparisons can be done for numerical types"
   ]
  },
  {
   "cell_type": "code",
   "execution_count": 27,
   "metadata": {},
   "outputs": [
    {
     "data": {
      "text/plain": [
       "(true, false, true, true)"
      ]
     },
     "execution_count": 27,
     "metadata": {},
     "output_type": "execute_result"
    }
   ],
   "source": [
    "1==1, 1<=-1, 1!=300, -0>=0"
   ]
  },
  {
   "cell_type": "code",
   "execution_count": 11,
   "metadata": {},
   "outputs": [
    {
     "data": {
      "text/plain": [
       "(false, true, true)"
      ]
     },
     "execution_count": 11,
     "metadata": {},
     "output_type": "execute_result"
    }
   ],
   "source": [
    "Inf==1, Inf>10e100, -Inf<-10e100"
   ]
  },
  {
   "cell_type": "code",
   "execution_count": 10,
   "metadata": {},
   "outputs": [
    {
     "data": {
      "text/plain": [
       "(false, true, false, false)"
      ]
     },
     "execution_count": 10,
     "metadata": {},
     "output_type": "execute_result"
    }
   ],
   "source": [
    "NaN==NaN, NaN!=NaN, NaN<Inf, NaN>-Inf"
   ]
  },
  {
   "cell_type": "code",
   "execution_count": 30,
   "metadata": {},
   "outputs": [
    {
     "data": {
      "text/plain": [
       "Float64"
      ]
     },
     "execution_count": 30,
     "metadata": {},
     "output_type": "execute_result"
    }
   ],
   "source": [
    "typeof(NaN)"
   ]
  },
  {
   "cell_type": "markdown",
   "metadata": {},
   "source": [
    "Comparisons can be chained. These comparisons use && operator for scalar comparisons. "
   ]
  },
  {
   "cell_type": "code",
   "execution_count": 15,
   "metadata": {},
   "outputs": [
    {
     "data": {
      "text/plain": [
       "true"
      ]
     },
     "execution_count": 15,
     "metadata": {},
     "output_type": "execute_result"
    }
   ],
   "source": [
    "1 < 2 > 0 != 100 # > 500"
   ]
  },
  {
   "cell_type": "markdown",
   "metadata": {},
   "source": [
    "### Numbers and types in Julia "
   ]
  },
  {
   "cell_type": "markdown",
   "metadata": {},
   "source": [
    "Let's have a second look at the numeric types in Julia"
   ]
  },
  {
   "cell_type": "code",
   "execution_count": 16,
   "metadata": {},
   "outputs": [
    {
     "data": {
      "text/plain": [
       "Int64"
      ]
     },
     "execution_count": 16,
     "metadata": {},
     "output_type": "execute_result"
    }
   ],
   "source": [
    "typeof(1)"
   ]
  },
  {
   "cell_type": "code",
   "execution_count": 17,
   "metadata": {},
   "outputs": [
    {
     "data": {
      "text/markdown": [
       "```\n",
       "typeof(x)\n",
       "```\n",
       "\n",
       "Get the concrete type of `x`.\n"
      ],
      "text/plain": [
       "```\n",
       "typeof(x)\n",
       "```\n",
       "\n",
       "Get the concrete type of `x`.\n"
      ]
     },
     "execution_count": 17,
     "metadata": {},
     "output_type": "execute_result"
    }
   ],
   "source": [
    "?typeof()"
   ]
  },
  {
   "cell_type": "code",
   "execution_count": 59,
   "metadata": {},
   "outputs": [
    {
     "name": "stdout",
     "output_type": "stream",
     "text": [
      "0 Int64\n",
      "23.4 Float64\n",
      "true Bool\n",
      "\n",
      "31 UInt8\n",
      "300 UInt16\n",
      "\n",
      "2 UInt8\n",
      "8 UInt8\n"
     ]
    }
   ],
   "source": [
    "#Some more examples of types\n",
    "println(-0,\" \",typeof(-0)) # On x64 machines, always using Int64\n",
    "println(23.4,\" \",typeof(23.4))\n",
    "println(true,\" \",typeof(true))\n",
    "println()\n",
    "\n",
    "# UInt use 0x prefix and hexadecimal (base 16) digits 0-9a-f\n",
    "println(0x1f,\" \", typeof(0x1f))\n",
    "println(0x12c,\" \", typeof(0x12c))\n",
    "println()\n",
    "\n",
    "# Binary and octal literals are also supported:\n",
    "println(0b10, \" \", typeof(0b10))\n",
    "println(0o10, \" \", typeof(0o10))"
   ]
  },
  {
   "cell_type": "markdown",
   "metadata": {},
   "source": [
    "Complex numbers are supported in Julia"
   ]
  },
  {
   "cell_type": "code",
   "execution_count": 76,
   "metadata": {},
   "outputs": [
    {
     "name": "stdout",
     "output_type": "stream",
     "text": [
      "1 + 2im Complex{Int64}\n",
      "13 + 0im Complex{Int64}\n",
      "\n"
     ]
    }
   ],
   "source": [
    "println(1 + 2im, \" \", typeof(1 + 2im))\n",
    "println((2 + 3im)*(2 - 3im), \" \", typeof((2 + 3im)*(2 - 3im)))\n",
    "println()"
   ]
  },
  {
   "cell_type": "code",
   "execution_count": 81,
   "metadata": {},
   "outputs": [
    {
     "data": {
      "text/plain": [
       "(2, 3, 2 - 3im, 3.6055512754639896, 13)"
      ]
     },
     "execution_count": 81,
     "metadata": {},
     "output_type": "execute_result"
    }
   ],
   "source": [
    "real(2 + 3im), imag(2 + 3im), conj(2 + 3im), abs(2 + 3im), abs2(2 + 3im)"
   ]
  },
  {
   "cell_type": "markdown",
   "metadata": {},
   "source": [
    "Rational number type to represent exact ratios of integers using \"//\" operator"
   ]
  },
  {
   "cell_type": "code",
   "execution_count": 83,
   "metadata": {},
   "outputs": [
    {
     "data": {
      "text/plain": [
       "(2//3, 0.6666666666666666, true)"
      ]
     },
     "execution_count": 83,
     "metadata": {},
     "output_type": "execute_result"
    }
   ],
   "source": [
    "2//3, 2/3, 2//3>2/3"
   ]
  },
  {
   "cell_type": "code",
   "execution_count": 84,
   "metadata": {},
   "outputs": [
    {
     "data": {
      "text/plain": [
       "Rational{Int64}"
      ]
     },
     "execution_count": 84,
     "metadata": {},
     "output_type": "execute_result"
    }
   ],
   "source": [
    "typeof(2//3)"
   ]
  },
  {
   "cell_type": "markdown",
   "metadata": {},
   "source": [
    "### Numbers and types in Julia \n",
    "\n",
    "From Julia manual [Integers and Floating-Point Numbers](https://docs.julialang.org/en/stable/manual/integers-and-floating-point-numbers/)\n",
    "(https://docs.julialang.org/en/stable/manual/integers-and-floating-point-numbers/)\n",
    "\n",
    "-Interger types\n",
    "\n",
    "-Float types"
   ]
  },
  {
   "cell_type": "markdown",
   "metadata": {},
   "source": [
    "### More on Arithmetic Operations\n",
    "\n",
    "https://docs.julialang.org/en/stable/manual/mathematical-operations/\n"
   ]
  },
  {
   "cell_type": "markdown",
   "metadata": {},
   "source": [
    "### Variables"
   ]
  },
  {
   "cell_type": "code",
   "execution_count": 5,
   "metadata": {},
   "outputs": [
    {
     "name": "stdout",
     "output_type": "stream",
     "text": [
      "10\n",
      "7//3\n",
      "Hello, World!\n",
      "π = 3.1415926535897...\n",
      "0.001\n",
      "π = 3.1415926535897...\n",
      "e = 2.7182818284590...\n"
     ]
    }
   ],
   "source": [
    "# Variables\n",
    "\n",
    "# Assign values to variable\n",
    "x = 10\n",
    "println(x)\n",
    "\n",
    "y = 2//3\n",
    "println(y*2+1)\n",
    "\n",
    "# Assign other types\n",
    "z = \"Hello, World!\"\n",
    "println(z)\n",
    "\n",
    "# Built-in constants\n",
    "println(pi)\n",
    "\n",
    "# Unicode names!!! What!\n",
    "δ = 0.001\n",
    "println(δ)\n",
    "println(π) # Built-in\n",
    "println(e)\n",
    "\n",
    "# In many Julia editing environments, Unicode characters are \n",
    "# invoked by issuing LaTeX commands for them and then pressing Tab\n",
    "# \\beta (hit Tab)\n"
   ]
  },
  {
   "cell_type": "code",
   "execution_count": 34,
   "metadata": {},
   "outputs": [
    {
     "name": "stdout",
     "output_type": "stream",
     "text": [
      "Int64 8\n",
      "Rational{Int64} 16\n",
      "String\n",
      "Irrational{:π}\n",
      "Float64\n",
      "Irrational{:π}\n"
     ]
    }
   ],
   "source": [
    "# We can also learn what type of objects are these variables again by using typeof()\n",
    "println(typeof(x),\" \", sizeof(x))\n",
    "println(typeof(y),\" \", sizeof(y))\n",
    "println(typeof(z))\n",
    "println(typeof(pi))\n",
    "println(typeof(δ))\n",
    "println(typeof(π))"
   ]
  },
  {
   "cell_type": "code",
   "execution_count": 43,
   "metadata": {},
   "outputs": [
    {
     "data": {
      "text/markdown": [
       "```\n",
       "sizeof(s::AbstractString)\n",
       "```\n",
       "\n",
       "The number of bytes in string `s`.\n",
       "\n",
       "# Example\n",
       "\n",
       "```jldoctest\n",
       "julia> sizeof(\"❤\")\n",
       "3\n",
       "```\n",
       "\n",
       "```\n",
       "sizeof(T)\n",
       "```\n",
       "\n",
       "Size, in bytes, of the canonical binary representation of the given DataType `T`, if any.\n",
       "\n",
       "# Examples\n",
       "\n",
       "```jldoctest\n",
       "julia> sizeof(Float32)\n",
       "4\n",
       "\n",
       "julia> sizeof(Complex128)\n",
       "16\n",
       "```\n",
       "\n",
       "If `T` does not have a specific size, an error is thrown.\n",
       "\n",
       "```jldoctest\n",
       "julia> sizeof(Base.LinAlg.LU)\n",
       "ERROR: argument is an abstract type; size is indeterminate\n",
       "Stacktrace:\n",
       " [1] sizeof(::Type{T} where T) at ./essentials.jl:159\n",
       "```\n"
      ],
      "text/plain": [
       "```\n",
       "sizeof(s::AbstractString)\n",
       "```\n",
       "\n",
       "The number of bytes in string `s`.\n",
       "\n",
       "# Example\n",
       "\n",
       "```jldoctest\n",
       "julia> sizeof(\"❤\")\n",
       "3\n",
       "```\n",
       "\n",
       "```\n",
       "sizeof(T)\n",
       "```\n",
       "\n",
       "Size, in bytes, of the canonical binary representation of the given DataType `T`, if any.\n",
       "\n",
       "# Examples\n",
       "\n",
       "```jldoctest\n",
       "julia> sizeof(Float32)\n",
       "4\n",
       "\n",
       "julia> sizeof(Complex128)\n",
       "16\n",
       "```\n",
       "\n",
       "If `T` does not have a specific size, an error is thrown.\n",
       "\n",
       "```jldoctest\n",
       "julia> sizeof(Base.LinAlg.LU)\n",
       "ERROR: argument is an abstract type; size is indeterminate\n",
       "Stacktrace:\n",
       " [1] sizeof(::Type{T} where T) at ./essentials.jl:159\n",
       "```\n"
      ]
     },
     "execution_count": 43,
     "metadata": {},
     "output_type": "execute_result"
    }
   ],
   "source": [
    "?sizeof()"
   ]
  },
  {
   "cell_type": "code",
   "execution_count": 1,
   "metadata": {},
   "outputs": [
    {
     "name": "stdout",
     "output_type": "stream",
     "text": [
      "                          Base               Module\n",
      "                        Compat  20070 KB     Module\n",
      "                          Core               Module\n",
      "                        IJulia  20138 KB     Module\n",
      "                          JSON  19971 KB     Module\n",
      "                          Main               Module\n",
      "                       MbedTLS  19995 KB     Module\n",
      "                     Nullables   1120 bytes  Module\n",
      "                           ZMQ  19942 KB     Module\n"
     ]
    }
   ],
   "source": [
    "# whos() command gives information about memory usage of the machine\n",
    "whos()"
   ]
  },
  {
   "cell_type": "code",
   "execution_count": 6,
   "metadata": {},
   "outputs": [
    {
     "name": "stdout",
     "output_type": "stream",
     "text": [
      "0.5\n",
      "1.54\n",
      "1.54\n"
     ]
    }
   ],
   "source": [
    "a=1.54\n",
    "b=a\n",
    "c=b\n",
    "a=1/2\n",
    "println(a)\n",
    "println(b)\n",
    "println(c)"
   ]
  },
  {
   "cell_type": "code",
   "execution_count": 7,
   "metadata": {},
   "outputs": [
    {
     "name": "stdout",
     "output_type": "stream",
     "text": [
      "6\n"
     ]
    }
   ],
   "source": [
    "# Julia can use updating operators : +=  -=  *=  /=  \\=  ÷=  %=  ^=  &=\n",
    "x=1\n",
    "x+=5\n",
    "println(x)"
   ]
  },
  {
   "cell_type": "code",
   "execution_count": 13,
   "metadata": {},
   "outputs": [
    {
     "name": "stdout",
     "output_type": "stream",
     "text": [
      "1\n"
     ]
    }
   ],
   "source": [
    "y=4\n",
    "y%=3\n",
    "println(y)"
   ]
  },
  {
   "cell_type": "markdown",
   "metadata": {},
   "source": [
    "### Vectors and Matrices "
   ]
  },
  {
   "cell_type": "code",
   "execution_count": 37,
   "metadata": {},
   "outputs": [
    {
     "data": {
      "text/plain": [
       "3-element Array{Int64,1}:\n",
       "  1\n",
       "  8\n",
       " 27"
      ]
     },
     "execution_count": 37,
     "metadata": {},
     "output_type": "execute_result"
    }
   ],
   "source": [
    "[1,2,3] .^ 3"
   ]
  },
  {
   "cell_type": "markdown",
   "metadata": {},
   "source": [
    "### Strings\n",
    "\n",
    "Strings are finite sequences of characters. The String type in Julia supports the full range of Unicode characters via the UTF-8 encoding. \n",
    "\n",
    "Unlike some dynamic languages (e.g., Python), Julia has a first-class type representing a single character, called Char. \n"
   ]
  },
  {
   "cell_type": "code",
   "execution_count": 18,
   "metadata": {},
   "outputs": [
    {
     "name": "stdout",
     "output_type": "stream",
     "text": [
      "Char\n",
      "120\n",
      "∀\n",
      "H\n",
      "!\n",
      "d\n",
      "lo, wo\n",
      "∀x, ∃y\n",
      "∀\n",
      "x\n"
     ]
    }
   ],
   "source": [
    "### Character\n",
    "\n",
    "println(typeof('x'))\n",
    "println(Int('x')) # characters in ASCII range can be simply treated as ASCII characters ignoring complexities of Unicode\n",
    "\n",
    "### Unicode characters\n",
    "\n",
    "println('\\u2200')\n",
    "\n",
    "\n",
    "### String basics\n",
    "\n",
    "str = \"Hello, world!\"\n",
    "\n",
    "println(str[1])\n",
    "println(str[end])\n",
    "println(str[end-1])\n",
    "println(str[4:9])\n",
    "\n",
    "### Unicode String \n",
    "\n",
    "str = \"\\u2200x, \\u2203y\"\n",
    "println(str)\n",
    "println(str[1])\n",
    "# println(str[2]) #-----> You will get an error here\n",
    "println(str[4])\n"
   ]
  },
  {
   "cell_type": "code",
   "execution_count": 27,
   "metadata": {},
   "outputs": [
    {
     "name": "stdout",
     "output_type": "stream",
     "text": [
      "Hello, world.\n",
      "\n",
      "Hello, julia.\n",
      "\n",
      "Hello, nuit.\n",
      "\n",
      "1 + 2 = 3\n"
     ]
    },
    {
     "data": {
      "text/plain": [
       "\"v: [1, 2, 3]\""
      ]
     },
     "execution_count": 27,
     "metadata": {},
     "output_type": "execute_result"
    }
   ],
   "source": [
    "# Concatenation\n",
    "\n",
    "greet = \"Hello\"\n",
    "whom = \"world\"\n",
    "str = string(greet, \", \", whom, \".\\n\")\n",
    "println(str)\n",
    "\n",
    "# Concatenation Using *\n",
    "greet = \"Hello\"\n",
    "whom = \"julia\"\n",
    "str = greet * \", \" * whom * \".\\n\"\n",
    "println(str)\n",
    "\n",
    "# Interpolation\n",
    "greet = \"Hello\"\n",
    "whom = \"nuit\"\n",
    "str = \"$greet, $whom.\\n\"\n",
    "println(str)\n",
    "println(\"1 + 2 = $(1 + 2)\")\n",
    "\n",
    "# In Julia, concatenation and string interpolation call string() to convert objects into string form\n",
    "v = [1,2,3]\n",
    "\"v: $v\""
   ]
  },
  {
   "cell_type": "code",
   "execution_count": 32,
   "metadata": {},
   "outputs": [
    {
     "name": "stdout",
     "output_type": "stream",
     "text": [
      "Hello,\n",
      "world!\n",
      "Hello,\n",
      "Julia!\n",
      "\n"
     ]
    }
   ],
   "source": [
    "# Triple-Quoted String Literals\n",
    "\n",
    "str = \"\"\"\n",
    "Hello,\n",
    "world!\n",
    "Hello,\n",
    "Julia!\n",
    "\"\"\"\n",
    "println(str)\n",
    "\n"
   ]
  },
  {
   "cell_type": "code",
   "execution_count": 1,
   "metadata": {},
   "outputs": [
    {
     "name": "stdout",
     "output_type": "stream",
     "text": [
      "2\n",
      "true\n",
      "false\n"
     ]
    }
   ],
   "source": [
    "# Search character/substring\n",
    "\n",
    "# search() for character\n",
    "println(search(\"blackhole\", 'l'))\n",
    "\n",
    "# contains() for substring\n",
    "println(contains(\"Hello, world.\", \"world\"))\n",
    "println(contains(\"Hello, world.\", \"julia\"))\n"
   ]
  },
  {
   "cell_type": "code",
   "execution_count": 39,
   "metadata": {},
   "outputs": [
    {
     "name": "stdout",
     "output_type": "stream",
     "text": [
      "true\n"
     ]
    }
   ],
   "source": [
    "# Regular expressions\n",
    "\n",
    "println(ismatch(r\"^\\s*(?:#|$)\", \"# a comment\"))"
   ]
  },
  {
   "cell_type": "markdown",
   "metadata": {},
   "source": [
    "### Working with text files"
   ]
  },
  {
   "cell_type": "code",
   "execution_count": 7,
   "metadata": {},
   "outputs": [
    {
     "name": "stdout",
     "output_type": "stream",
     "text": [
      "14, This is Line 1\n",
      "14, This is Line 2\n",
      "27, This is Line 3, and the end\n"
     ]
    }
   ],
   "source": [
    "# Write files\n",
    "f = open(\"test-write.txt\", \"w\") # Must use string instead of character!\n",
    "println(f, \"This is Line 1\")\n",
    "println(f, \"This is Line 2\")\n",
    "println(f, \"This is Line 3, and the end\")\n",
    "close(f)\n",
    "\n",
    "# Read files\n",
    "f = open(\"test-write.txt\", \"r\")\n",
    "for ln in eachline(f)\n",
    "       println(\"$(length(ln)), $ln\")\n",
    "end\n",
    "close(f)"
   ]
  },
  {
   "cell_type": "markdown",
   "metadata": {},
   "source": [
    "## 3. Control Flow and Functions"
   ]
  },
  {
   "cell_type": "markdown",
   "metadata": {
    "collapsed": true
   },
   "source": [
    "### Compound Expressions"
   ]
  },
  {
   "cell_type": "code",
   "execution_count": 25,
   "metadata": {},
   "outputs": [
    {
     "data": {
      "text/plain": [
       "15"
      ]
     },
     "execution_count": 25,
     "metadata": {},
     "output_type": "execute_result"
    }
   ],
   "source": [
    "z = begin\n",
    "        x = 8\n",
    "        y = 7\n",
    "        x + y\n",
    "    end"
   ]
  },
  {
   "cell_type": "markdown",
   "metadata": {},
   "source": [
    "### Functions"
   ]
  },
  {
   "cell_type": "code",
   "execution_count": 26,
   "metadata": {},
   "outputs": [
    {
     "name": "stdout",
     "output_type": "stream",
     "text": [
      "7\n",
      "11\n"
     ]
    }
   ],
   "source": [
    "function f(x,y)\n",
    "   x + y\n",
    "end\n",
    "\n",
    "println(f(3,4))\n",
    "println(f(2,9))"
   ]
  },
  {
   "cell_type": "markdown",
   "metadata": {},
   "source": [
    "### Anonymous Functions\n",
    "\n",
    "Functions in Julia are first-class objects, and can be assigned to variables. They can be used as arguments, and they can be returned as values. They can also be created anonymously, without being given a name, which are called as anonymous functions. These features are important for functional programming. "
   ]
  },
  {
   "cell_type": "code",
   "execution_count": 21,
   "metadata": {},
   "outputs": [
    {
     "name": "stdout",
     "output_type": "stream",
     "text": [
      "[1.0, 4.0, 2.0]\n",
      "[2, 14, -2]\n"
     ]
    },
    {
     "data": {
      "text/plain": [
       "(::#41) (generic function with 1 method)"
      ]
     },
     "execution_count": 21,
     "metadata": {},
     "output_type": "execute_result"
    }
   ],
   "source": [
    "# Functions as arguments\n",
    "println( map(round, [1.2,3.5,1.7]) )\n",
    "\n",
    "# Define \n",
    "println( map(x -> x^2 + 2x - 1, [1,3,-1]) )\n",
    "x -> x^2 + 2x - 1\n"
   ]
  },
  {
   "cell_type": "markdown",
   "metadata": {},
   "source": [
    "### Macros\n",
    "\n",
    "Macros provide a method to include generated code in the final body of a program. A macro maps a tuple of arguments to a returned expression, and the resulting expression is compiled directly rather than executed at runtime."
   ]
  },
  {
   "cell_type": "code",
   "execution_count": 54,
   "metadata": {},
   "outputs": [
    {
     "name": "stdout",
     "output_type": "stream",
     "text": [
      "Hello, world!\n"
     ]
    }
   ],
   "source": [
    "macro sayhello()\n",
    "   return :( println(\"Hello, world!\") )\n",
    "end\n",
    "\n",
    "@sayhello\n",
    "\n"
   ]
  },
  {
   "cell_type": "markdown",
   "metadata": {},
   "source": [
    "### Conditional Evaluation"
   ]
  },
  {
   "cell_type": "code",
   "execution_count": 37,
   "metadata": {},
   "outputs": [
    {
     "name": "stdout",
     "output_type": "stream",
     "text": [
      "x is greater than y\n",
      "a, b, c are: 68.0, 42.0, 29.0\n",
      "a is not the smallest number\n",
      "b is the smallest number\n"
     ]
    }
   ],
   "source": [
    "# if-else-end\n",
    "x = 10\n",
    "y = 5\n",
    "if x < y\n",
    "    println(\"x is less than y\")\n",
    "elseif x > y\n",
    "    println(\"x is greater than y\")\n",
    "else\n",
    "    println(\"x is equal to y\")\n",
    "end\n",
    "\n",
    "# compound logic expressions\n",
    "a = round(rand()*100)\n",
    "b = round(rand()*100)\n",
    "c = round(rand()*100)\n",
    "println(\"a, b, c are: $a, $b, $c\")\n",
    "\n",
    "if a < b && a < c\n",
    "    println(\"a is the smallest number\")\n",
    "else\n",
    "    println(\"a is not the smallest number\")\n",
    "end\n",
    "\n",
    "\n",
    "if b >= a && b >= c\n",
    "    println(\"b is not the smallest number\")\n",
    "else\n",
    "    println(\"b is the smallest number\")\n",
    "end\n"
   ]
  },
  {
   "cell_type": "code",
   "execution_count": 27,
   "metadata": {},
   "outputs": [
    {
     "data": {
      "text/plain": [
       "58.0"
      ]
     },
     "execution_count": 27,
     "metadata": {},
     "output_type": "execute_result"
    }
   ],
   "source": [
    "\n"
   ]
  },
  {
   "cell_type": "markdown",
   "metadata": {},
   "source": [
    "### Loops"
   ]
  },
  {
   "cell_type": "code",
   "execution_count": 23,
   "metadata": {},
   "outputs": [
    {
     "name": "stdout",
     "output_type": "stream",
     "text": [
      "1\n",
      "2\n",
      "3\n",
      "4\n",
      "5\n",
      "a\n",
      "b\n",
      "c\n",
      "d\n",
      "e\n",
      "f\n"
     ]
    }
   ],
   "source": [
    "# While loops\n",
    "i = 1;\n",
    "while i <= 5\n",
    "   println(i)\n",
    "   i += 1\n",
    "end\n",
    "\n",
    "# For loops\n",
    "for i = 'a':'f'\n",
    "   println(i)\n",
    "end"
   ]
  },
  {
   "cell_type": "markdown",
   "metadata": {},
   "source": [
    "### Exception Handling"
   ]
  },
  {
   "cell_type": "code",
   "execution_count": 30,
   "metadata": {},
   "outputs": [
    {
     "name": "stdout",
     "output_type": "stream",
     "text": [
      "1.0\n"
     ]
    },
    {
     "ename": "LoadError",
     "evalue": "DomainError:",
     "output_type": "error",
     "traceback": [
      "DomainError:",
      "",
      "Stacktrace:",
      " [1] \u001b[1mf1\u001b[22m\u001b[22m\u001b[1m(\u001b[22m\u001b[22m::Int64\u001b[1m)\u001b[22m\u001b[22m at \u001b[1m./In[30]:1\u001b[22m\u001b[22m",
      " [2] \u001b[1minclude_string\u001b[22m\u001b[22m\u001b[1m(\u001b[22m\u001b[22m::String, ::String\u001b[1m)\u001b[22m\u001b[22m at \u001b[1m./loading.jl:522\u001b[22m\u001b[22m"
     ]
    }
   ],
   "source": [
    "f1(x) = sqrt(x)\n",
    "\n",
    "println(f1(1))\n",
    "println(f1(-1))"
   ]
  },
  {
   "cell_type": "code",
   "execution_count": 31,
   "metadata": {},
   "outputs": [
    {
     "name": "stdout",
     "output_type": "stream",
     "text": [
      "1.0\n",
      "0.0 + 1.0im\n"
     ]
    }
   ],
   "source": [
    "f2(x) = try\n",
    "            sqrt(x)\n",
    "        catch\n",
    "            sqrt(complex(x, 0))\n",
    "        end\n",
    "\n",
    "println(f2(1))\n",
    "println(f2(-1))"
   ]
  },
  {
   "cell_type": "markdown",
   "metadata": {},
   "source": [
    "## 4. Advanced Features of Julia"
   ]
  },
  {
   "cell_type": "markdown",
   "metadata": {},
   "source": [
    "### Call Python in Julia"
   ]
  },
  {
   "cell_type": "code",
   "execution_count": 4,
   "metadata": {},
   "outputs": [
    {
     "data": {
      "text/plain": [
       "0.0"
      ]
     },
     "execution_count": 4,
     "metadata": {},
     "output_type": "execute_result"
    }
   ],
   "source": [
    "# Run Pkg.add(\"PyCall\") if you see an error\n",
    "\n",
    "using PyCall\n",
    "@pyimport math\n",
    "math.sin(math.pi / 4) - sin(pi / 4)  # returns 0.0"
   ]
  },
  {
   "cell_type": "markdown",
   "metadata": {},
   "source": [
    "### Parallel Computing"
   ]
  },
  {
   "cell_type": "markdown",
   "metadata": {},
   "source": [
    "### GPU Computing"
   ]
  },
  {
   "cell_type": "markdown",
   "metadata": {},
   "source": [
    "## 5. References and More Online Resources\n",
    "\n",
    "1. [Julia Documentation](https://docs.julialang.org/en/stable/index.html)\n",
    "2. http://samuelcolvin.github.io/JuliaByExample/\n",
    "3. http://math.mit.edu/~stevenj/Julia-cheatsheet.pdf\n",
    "4. http://courses.csail.mit.edu/18.337/2017/\n",
    "5. Beginning Julia Programming: For Engineers and Scientists, Sandeep Nagar, 2017 [https://link.springer.com/book/10.1007%2F978-1-4842-3171-5]"
   ]
  },
  {
   "cell_type": "markdown",
   "metadata": {},
   "source": [
    "## Backup"
   ]
  },
  {
   "cell_type": "code",
   "execution_count": null,
   "metadata": {},
   "outputs": [],
   "source": []
  }
 ],
 "metadata": {
  "kernelspec": {
   "display_name": "Julia 0.6.2",
   "language": "julia",
   "name": "julia-0.6"
  },
  "language_info": {
   "file_extension": ".jl",
   "mimetype": "application/julia",
   "name": "julia",
   "version": "0.6.2"
  }
 },
 "nbformat": 4,
 "nbformat_minor": 2
}
